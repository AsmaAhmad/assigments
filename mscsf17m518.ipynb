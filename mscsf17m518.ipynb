{
 "cells": [
  {
   "cell_type": "code",
   "execution_count": 19,
   "metadata": {
    "collapsed": true
   },
   "outputs": [],
   "source": [
    "output_file = \"empty.txt\"\n",
    "operators_list = ['+', '-', '*','/']\n",
    "# create empaty Dictionary to hold output values\n",
    "output_d = {} \n",
    "\n",
    "# open and read input file\n",
    "\n",
    "input_file = open(\"fft.txt\", \"r\")\n",
    "\n",
    "# fuction to split expressions\n",
    "\n",
    "def split_function(line):\n",
    "    v, e = line.split(\"=\") \n",
    "    solution = expression_solution(e)\n",
    "    output_d[v] = solution\n",
    "\n",
    "def expression_solution(e):\n",
    "    found_operation = ''\n",
    "    for opt in operators_list:\n",
    "        if opt in e:\n",
    "            found_operation = opt\n",
    "            break\n",
    "\n",
    "    if not found_operation:\n",
    "        array = [e]\n",
    "    else:\n",
    "        array = e.split(found_operation)\n",
    "\n",
    "    for i, operand in enumerate(array):\n",
    "        if operand in output_d:\n",
    "            array[i] = output_d[operand]\n",
    "\n",
    "    array = found_operation.join([str(x) for x in array])\n",
    "    return array\n",
    "\n",
    "\n",
    "for line in input_file :\n",
    "    \n",
    "# Removing '\\n' & '\\r' \n",
    "\n",
    "    line = line.replace('\\n', '')\n",
    "    line = line.replace('\\r', '')\n",
    "#call split function\n",
    "\n",
    "    split_function(line)\n",
    "\n",
    "def write_file():\n",
    "    file = open(output_file, 'w')\n",
    "    for key in output_d:\n",
    "        output = key + '=' + output_d[key] + '\\n'\n",
    "        newstr = output.replace(\"1*\", \"\")\n",
    "        file.write(newstr)\n",
    "write_file()"
   ]
  }
 ],
 "metadata": {
  "kernelspec": {
   "display_name": "Python 3",
   "language": "python",
   "name": "python3"
  },
  "language_info": {
   "codemirror_mode": {
    "name": "ipython",
    "version": 3
   },
   "file_extension": ".py",
   "mimetype": "text/x-python",
   "name": "python",
   "nbconvert_exporter": "python",
   "pygments_lexer": "ipython3",
   "version": "3.6.2"
  }
 },
 "nbformat": 4,
 "nbformat_minor": 2
}
